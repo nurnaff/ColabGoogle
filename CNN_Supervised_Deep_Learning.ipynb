{
 "cells": [
  {
   "cell_type": "markdown",
   "metadata": {
    "colab_type": "text",
    "id": "ItbLtxyt44zH"
   },
   "source": [
    "<img src = \"https://i.imgur.com/XoRDxQJ.png\" align = \"center\">"
   ]
  },
  {
   "cell_type": "markdown",
   "metadata": {
    "colab_type": "text",
    "id": "FW8YBWjy-toQ"
   },
   "source": [
    "#Fashion-MNIST Classification with CNN using Keras\n"
   ]
  },
  {
   "cell_type": "markdown",
   "metadata": {
    "colab_type": "text",
    "id": "rEjOa8IC-_bV"
   },
   "source": [
    "## Why Fashion-MNIST?\n",
    "\n",
    "\n",
    "*   MNIST is too easy\n",
    "*   MNIST is overused\n",
    "*   MNIST can not represent modern Computer Vision tasks\n",
    "\n",
    "Read more about the Fashion-MINST dataset in this paper [here](https://arxiv.org/abs/1708.07747) (**Fashion-MNIST: a Novel Image Dataset for Benchmarking Machine Learning Algorithms**)\n"
   ]
  },
  {
   "cell_type": "markdown",
   "metadata": {
    "colab_type": "text",
    "id": "7JiG3CebBN_f"
   },
   "source": [
    "## Dataset Description\n",
    "The Fashion MNIST data set contains 70,000 grayscale images in 10 categories. \n",
    "The images show individual articles of clothing at low resolution (28 by 28 pixels), as seen here:\n",
    "\n",
    "![alt text](https://miro.medium.com/max/840/0*dOOHSSWACxZJ_eIR)"
   ]
  },
  {
   "cell_type": "code",
   "execution_count": 0,
   "metadata": {
    "colab": {},
    "colab_type": "code",
    "id": "nY69T3D2bgje"
   },
   "outputs": [],
   "source": [
    "import keras\n",
    "from keras.datasets import fashion_mnist \n",
    "from keras.layers import Dense, Conv2D, MaxPooling2D, Activation, Flatten, Dropout\n",
    "from keras.layers.normalization import BatchNormalization\n",
    "from keras.models import Sequential\n",
    "from keras.utils import to_categorical\n",
    "import numpy as np\n",
    "import matplotlib.pyplot as plt"
   ]
  },
  {
   "cell_type": "code",
   "execution_count": 0,
   "metadata": {
    "colab": {},
    "colab_type": "code",
    "id": "bzjiKLVyirJ-"
   },
   "outputs": [],
   "source": [
    "#download fashion MNIST dataset\n",
    "(X_train,Y_train), (X_test,Y_test) = fashion_mnist.load_data()"
   ]
  },
  {
   "cell_type": "code",
   "execution_count": 28,
   "metadata": {
    "colab": {
     "base_uri": "https://localhost:8080/",
     "height": 35
    },
    "colab_type": "code",
    "executionInfo": {
     "elapsed": 818,
     "status": "ok",
     "timestamp": 1570948007868,
     "user": {
      "displayName": "Dhomas Hatta Fudholi, Ph.D.",
      "photoUrl": "https://lh3.googleusercontent.com/a-/AAuE7mBqYrpHgIy8ZhipCIEcgOSQI8KscQE8gIDViEpY8w=s64",
      "userId": "00798279027416618606"
     },
     "user_tz": -420
    },
    "id": "lZOMjvnpiuh2",
    "outputId": "7f288632-820b-40fe-f001-e85390e1c37a"
   },
   "outputs": [
    {
     "data": {
      "text/plain": [
       "(60000, 28, 28)"
      ]
     },
     "execution_count": 28,
     "metadata": {
      "tags": []
     },
     "output_type": "execute_result"
    }
   ],
   "source": [
    "#check image shape\n",
    "X_train.shape"
   ]
  },
  {
   "cell_type": "code",
   "execution_count": 35,
   "metadata": {
    "colab": {
     "base_uri": "https://localhost:8080/",
     "height": 305
    },
    "colab_type": "code",
    "executionInfo": {
     "elapsed": 1154,
     "status": "ok",
     "timestamp": 1570948485709,
     "user": {
      "displayName": "Dhomas Hatta Fudholi, Ph.D.",
      "photoUrl": "https://lh3.googleusercontent.com/a-/AAuE7mBqYrpHgIy8ZhipCIEcgOSQI8KscQE8gIDViEpY8w=s64",
      "userId": "00798279027416618606"
     },
     "user_tz": -420
    },
    "id": "xcqluGbFeU18",
    "outputId": "b7424691-7fce-4530-e3fd-dae181dae6d9"
   },
   "outputs": [
    {
     "name": "stdout",
     "output_type": "stream",
     "text": [
      "y = 0\n",
      "Label:T-shirt/top\n"
     ]
    },
    {
     "data": {
      "image/png": "[encoded data removed]",
      "text/plain": [
       "<Figure size 432x288 with 1 Axes>"
      ]
     },
     "metadata": {
      "tags": []
     },
     "output_type": "display_data"
    }
   ],
   "source": [
    "# Define the text labels\n",
    "fashion_mnist_labels = [\"T-shirt/top\",  # index 0\n",
    "                        \"Trouser\",      # index 1\n",
    "                        \"Pullover\",     # index 2 \n",
    "                        \"Dress\",        # index 3 \n",
    "                        \"Coat\",         # index 4\n",
    "                        \"Sandal\",       # index 5\n",
    "                        \"Shirt\",        # index 6 \n",
    "                        \"Sneaker\",      # index 7 \n",
    "                        \"Bag\",          # index 8 \n",
    "                        \"Ankle boot\"]   # index 9\n",
    "\n",
    "# Image index, you can pick any number between 0 and 59,999\n",
    "img_index = 10\n",
    "# y_train contains the lables, ranging from 0 to 9\n",
    "label_index = Y_train[img_index]\n",
    "# # Show one of the images from the training dataset\n",
    "plt.imshow(X_train[img_index], cmap='Greys')\n",
    "# Print the label, for example 2 Pullover\n",
    "print(\"y = \" + str(label_index))\n",
    "print(\"Label\" +\":\"+(fashion_mnist_labels[label_index]))"
   ]
  },
  {
   "cell_type": "code",
   "execution_count": 36,
   "metadata": {
    "colab": {
     "base_uri": "https://localhost:8080/",
     "height": 947
    },
    "colab_type": "code",
    "executionInfo": {
     "elapsed": 813,
     "status": "ok",
     "timestamp": 1570948490425,
     "user": {
      "displayName": "Dhomas Hatta Fudholi, Ph.D.",
      "photoUrl": "https://lh3.googleusercontent.com/a-/AAuE7mBqYrpHgIy8ZhipCIEcgOSQI8KscQE8gIDViEpY8w=s64",
      "userId": "00798279027416618606"
     },
     "user_tz": -420
    },
    "id": "MjMl6Rk5F6Bv",
    "outputId": "06ee8e4f-a653-489d-c166-0e49bbad72e4"
   },
   "outputs": [
    {
     "data": {
      "text/html": [
       "<div>\n",
       "<style scoped>\n",
       "    .dataframe tbody tr th:only-of-type {\n",
       "        vertical-align: middle;\n",
       "    }\n",
       "\n",
       "    .dataframe tbody tr th {\n",
       "        vertical-align: top;\n",
       "    }\n",
       "\n",
       "    .dataframe thead th {\n",
       "        text-align: right;\n",
       "    }\n",
       "</style>\n",
       "<table border=\"1\" class=\"dataframe\">\n",
       "  <thead>\n",
       "    <tr style=\"text-align: right;\">\n",
       "      <th></th>\n",
       "      <th>0</th>\n",
       "      <th>1</th>\n",
       "      <th>2</th>\n",
       "      <th>3</th>\n",
       "      <th>4</th>\n",
       "      <th>5</th>\n",
       "      <th>6</th>\n",
       "      <th>7</th>\n",
       "      <th>8</th>\n",
       "      <th>9</th>\n",
       "      <th>10</th>\n",
       "      <th>11</th>\n",
       "      <th>12</th>\n",
       "      <th>13</th>\n",
       "      <th>14</th>\n",
       "      <th>15</th>\n",
       "      <th>16</th>\n",
       "      <th>17</th>\n",
       "      <th>18</th>\n",
       "      <th>19</th>\n",
       "      <th>20</th>\n",
       "      <th>21</th>\n",
       "      <th>22</th>\n",
       "      <th>23</th>\n",
       "      <th>24</th>\n",
       "      <th>25</th>\n",
       "      <th>26</th>\n",
       "      <th>27</th>\n",
       "    </tr>\n",
       "  </thead>\n",
       "  <tbody>\n",
       "    <tr>\n",
       "      <th>0</th>\n",
       "      <td>0</td>\n",
       "      <td>0</td>\n",
       "      <td>0</td>\n",
       "      <td>0</td>\n",
       "      <td>0</td>\n",
       "      <td>0</td>\n",
       "      <td>0</td>\n",
       "      <td>11</td>\n",
       "      <td>142</td>\n",
       "      <td>200</td>\n",
       "      <td>106</td>\n",
       "      <td>0</td>\n",
       "      <td>0</td>\n",
       "      <td>0</td>\n",
       "      <td>0</td>\n",
       "      <td>0</td>\n",
       "      <td>0</td>\n",
       "      <td>0</td>\n",
       "      <td>85</td>\n",
       "      <td>185</td>\n",
       "      <td>112</td>\n",
       "      <td>0</td>\n",
       "      <td>0</td>\n",
       "      <td>0</td>\n",
       "      <td>0</td>\n",
       "      <td>0</td>\n",
       "      <td>0</td>\n",
       "      <td>0</td>\n",
       "    </tr>\n",
       "    <tr>\n",
       "      <th>1</th>\n",
       "      <td>0</td>\n",
       "      <td>0</td>\n",
       "      <td>0</td>\n",
       "      <td>0</td>\n",
       "      <td>0</td>\n",
       "      <td>0</td>\n",
       "      <td>152</td>\n",
       "      <td>214</td>\n",
       "      <td>217</td>\n",
       "      <td>194</td>\n",
       "      <td>236</td>\n",
       "      <td>216</td>\n",
       "      <td>187</td>\n",
       "      <td>149</td>\n",
       "      <td>135</td>\n",
       "      <td>153</td>\n",
       "      <td>211</td>\n",
       "      <td>217</td>\n",
       "      <td>231</td>\n",
       "      <td>205</td>\n",
       "      <td>217</td>\n",
       "      <td>188</td>\n",
       "      <td>34</td>\n",
       "      <td>0</td>\n",
       "      <td>0</td>\n",
       "      <td>0</td>\n",
       "      <td>0</td>\n",
       "      <td>0</td>\n",
       "    </tr>\n",
       "    <tr>\n",
       "      <th>2</th>\n",
       "      <td>0</td>\n",
       "      <td>0</td>\n",
       "      <td>0</td>\n",
       "      <td>0</td>\n",
       "      <td>0</td>\n",
       "      <td>66</td>\n",
       "      <td>185</td>\n",
       "      <td>166</td>\n",
       "      <td>180</td>\n",
       "      <td>181</td>\n",
       "      <td>190</td>\n",
       "      <td>211</td>\n",
       "      <td>221</td>\n",
       "      <td>197</td>\n",
       "      <td>146</td>\n",
       "      <td>198</td>\n",
       "      <td>206</td>\n",
       "      <td>191</td>\n",
       "      <td>168</td>\n",
       "      <td>190</td>\n",
       "      <td>172</td>\n",
       "      <td>188</td>\n",
       "      <td>175</td>\n",
       "      <td>0</td>\n",
       "      <td>0</td>\n",
       "      <td>0</td>\n",
       "      <td>0</td>\n",
       "      <td>0</td>\n",
       "    </tr>\n",
       "    <tr>\n",
       "      <th>3</th>\n",
       "      <td>0</td>\n",
       "      <td>0</td>\n",
       "      <td>0</td>\n",
       "      <td>0</td>\n",
       "      <td>0</td>\n",
       "      <td>135</td>\n",
       "      <td>153</td>\n",
       "      <td>160</td>\n",
       "      <td>175</td>\n",
       "      <td>180</td>\n",
       "      <td>170</td>\n",
       "      <td>186</td>\n",
       "      <td>187</td>\n",
       "      <td>190</td>\n",
       "      <td>188</td>\n",
       "      <td>190</td>\n",
       "      <td>187</td>\n",
       "      <td>174</td>\n",
       "      <td>195</td>\n",
       "      <td>185</td>\n",
       "      <td>174</td>\n",
       "      <td>161</td>\n",
       "      <td>175</td>\n",
       "      <td>59</td>\n",
       "      <td>0</td>\n",
       "      <td>0</td>\n",
       "      <td>0</td>\n",
       "      <td>0</td>\n",
       "    </tr>\n",
       "    <tr>\n",
       "      <th>4</th>\n",
       "      <td>0</td>\n",
       "      <td>0</td>\n",
       "      <td>0</td>\n",
       "      <td>0</td>\n",
       "      <td>0</td>\n",
       "      <td>161</td>\n",
       "      <td>147</td>\n",
       "      <td>160</td>\n",
       "      <td>170</td>\n",
       "      <td>178</td>\n",
       "      <td>177</td>\n",
       "      <td>180</td>\n",
       "      <td>168</td>\n",
       "      <td>173</td>\n",
       "      <td>174</td>\n",
       "      <td>171</td>\n",
       "      <td>185</td>\n",
       "      <td>184</td>\n",
       "      <td>185</td>\n",
       "      <td>172</td>\n",
       "      <td>171</td>\n",
       "      <td>164</td>\n",
       "      <td>174</td>\n",
       "      <td>120</td>\n",
       "      <td>0</td>\n",
       "      <td>0</td>\n",
       "      <td>0</td>\n",
       "      <td>0</td>\n",
       "    </tr>\n",
       "    <tr>\n",
       "      <th>5</th>\n",
       "      <td>0</td>\n",
       "      <td>0</td>\n",
       "      <td>0</td>\n",
       "      <td>0</td>\n",
       "      <td>2</td>\n",
       "      <td>175</td>\n",
       "      <td>146</td>\n",
       "      <td>145</td>\n",
       "      <td>168</td>\n",
       "      <td>178</td>\n",
       "      <td>181</td>\n",
       "      <td>185</td>\n",
       "      <td>180</td>\n",
       "      <td>184</td>\n",
       "      <td>178</td>\n",
       "      <td>179</td>\n",
       "      <td>187</td>\n",
       "      <td>191</td>\n",
       "      <td>193</td>\n",
       "      <td>190</td>\n",
       "      <td>181</td>\n",
       "      <td>171</td>\n",
       "      <td>172</td>\n",
       "      <td>158</td>\n",
       "      <td>0</td>\n",
       "      <td>0</td>\n",
       "      <td>0</td>\n",
       "      <td>0</td>\n",
       "    </tr>\n",
       "    <tr>\n",
       "      <th>6</th>\n",
       "      <td>0</td>\n",
       "      <td>0</td>\n",
       "      <td>0</td>\n",
       "      <td>0</td>\n",
       "      <td>35</td>\n",
       "      <td>177</td>\n",
       "      <td>155</td>\n",
       "      <td>140</td>\n",
       "      <td>151</td>\n",
       "      <td>172</td>\n",
       "      <td>191</td>\n",
       "      <td>187</td>\n",
       "      <td>186</td>\n",
       "      <td>187</td>\n",
       "      <td>186</td>\n",
       "      <td>187</td>\n",
       "      <td>182</td>\n",
       "      <td>191</td>\n",
       "      <td>194</td>\n",
       "      <td>188</td>\n",
       "      <td>180</td>\n",
       "      <td>161</td>\n",
       "      <td>161</td>\n",
       "      <td>185</td>\n",
       "      <td>0</td>\n",
       "      <td>0</td>\n",
       "      <td>0</td>\n",
       "      <td>0</td>\n",
       "    </tr>\n",
       "    <tr>\n",
       "      <th>7</th>\n",
       "      <td>0</td>\n",
       "      <td>0</td>\n",
       "      <td>0</td>\n",
       "      <td>0</td>\n",
       "      <td>59</td>\n",
       "      <td>170</td>\n",
       "      <td>153</td>\n",
       "      <td>141</td>\n",
       "      <td>120</td>\n",
       "      <td>154</td>\n",
       "      <td>160</td>\n",
       "      <td>161</td>\n",
       "      <td>172</td>\n",
       "      <td>168</td>\n",
       "      <td>166</td>\n",
       "      <td>161</td>\n",
       "      <td>165</td>\n",
       "      <td>172</td>\n",
       "      <td>170</td>\n",
       "      <td>164</td>\n",
       "      <td>139</td>\n",
       "      <td>149</td>\n",
       "      <td>162</td>\n",
       "      <td>166</td>\n",
       "      <td>21</td>\n",
       "      <td>0</td>\n",
       "      <td>0</td>\n",
       "      <td>0</td>\n",
       "    </tr>\n",
       "    <tr>\n",
       "      <th>8</th>\n",
       "      <td>0</td>\n",
       "      <td>0</td>\n",
       "      <td>0</td>\n",
       "      <td>0</td>\n",
       "      <td>79</td>\n",
       "      <td>145</td>\n",
       "      <td>160</td>\n",
       "      <td>214</td>\n",
       "      <td>123</td>\n",
       "      <td>128</td>\n",
       "      <td>153</td>\n",
       "      <td>160</td>\n",
       "      <td>164</td>\n",
       "      <td>158</td>\n",
       "      <td>157</td>\n",
       "      <td>154</td>\n",
       "      <td>155</td>\n",
       "      <td>170</td>\n",
       "      <td>165</td>\n",
       "      <td>141</td>\n",
       "      <td>195</td>\n",
       "      <td>193</td>\n",
       "      <td>152</td>\n",
       "      <td>166</td>\n",
       "      <td>61</td>\n",
       "      <td>0</td>\n",
       "      <td>0</td>\n",
       "      <td>0</td>\n",
       "    </tr>\n",
       "    <tr>\n",
       "      <th>9</th>\n",
       "      <td>0</td>\n",
       "      <td>0</td>\n",
       "      <td>0</td>\n",
       "      <td>0</td>\n",
       "      <td>100</td>\n",
       "      <td>157</td>\n",
       "      <td>225</td>\n",
       "      <td>245</td>\n",
       "      <td>175</td>\n",
       "      <td>113</td>\n",
       "      <td>174</td>\n",
       "      <td>158</td>\n",
       "      <td>158</td>\n",
       "      <td>160</td>\n",
       "      <td>155</td>\n",
       "      <td>160</td>\n",
       "      <td>164</td>\n",
       "      <td>178</td>\n",
       "      <td>188</td>\n",
       "      <td>135</td>\n",
       "      <td>185</td>\n",
       "      <td>240</td>\n",
       "      <td>201</td>\n",
       "      <td>172</td>\n",
       "      <td>108</td>\n",
       "      <td>0</td>\n",
       "      <td>0</td>\n",
       "      <td>0</td>\n",
       "    </tr>\n",
       "    <tr>\n",
       "      <th>10</th>\n",
       "      <td>0</td>\n",
       "      <td>0</td>\n",
       "      <td>0</td>\n",
       "      <td>0</td>\n",
       "      <td>0</td>\n",
       "      <td>31</td>\n",
       "      <td>174</td>\n",
       "      <td>28</td>\n",
       "      <td>126</td>\n",
       "      <td>153</td>\n",
       "      <td>166</td>\n",
       "      <td>152</td>\n",
       "      <td>158</td>\n",
       "      <td>158</td>\n",
       "      <td>160</td>\n",
       "      <td>161</td>\n",
       "      <td>157</td>\n",
       "      <td>168</td>\n",
       "      <td>191</td>\n",
       "      <td>188</td>\n",
       "      <td>18</td>\n",
       "      <td>132</td>\n",
       "      <td>159</td>\n",
       "      <td>7</td>\n",
       "      <td>0</td>\n",
       "      <td>0</td>\n",
       "      <td>0</td>\n",
       "      <td>0</td>\n",
       "    </tr>\n",
       "    <tr>\n",
       "      <th>11</th>\n",
       "      <td>0</td>\n",
       "      <td>0</td>\n",
       "      <td>0</td>\n",
       "      <td>0</td>\n",
       "      <td>0</td>\n",
       "      <td>0</td>\n",
       "      <td>0</td>\n",
       "      <td>0</td>\n",
       "      <td>82</td>\n",
       "      <td>187</td>\n",
       "      <td>159</td>\n",
       "      <td>153</td>\n",
       "      <td>157</td>\n",
       "      <td>158</td>\n",
       "      <td>162</td>\n",
       "      <td>164</td>\n",
       "      <td>164</td>\n",
       "      <td>154</td>\n",
       "      <td>187</td>\n",
       "      <td>190</td>\n",
       "      <td>0</td>\n",
       "      <td>0</td>\n",
       "      <td>0</td>\n",
       "      <td>0</td>\n",
       "      <td>0</td>\n",
       "      <td>0</td>\n",
       "      <td>0</td>\n",
       "      <td>0</td>\n",
       "    </tr>\n",
       "    <tr>\n",
       "      <th>12</th>\n",
       "      <td>0</td>\n",
       "      <td>0</td>\n",
       "      <td>0</td>\n",
       "      <td>0</td>\n",
       "      <td>1</td>\n",
       "      <td>3</td>\n",
       "      <td>5</td>\n",
       "      <td>0</td>\n",
       "      <td>37</td>\n",
       "      <td>175</td>\n",
       "      <td>158</td>\n",
       "      <td>155</td>\n",
       "      <td>162</td>\n",
       "      <td>158</td>\n",
       "      <td>160</td>\n",
       "      <td>162</td>\n",
       "      <td>165</td>\n",
       "      <td>153</td>\n",
       "      <td>177</td>\n",
       "      <td>205</td>\n",
       "      <td>0</td>\n",
       "      <td>0</td>\n",
       "      <td>3</td>\n",
       "      <td>3</td>\n",
       "      <td>0</td>\n",
       "      <td>0</td>\n",
       "      <td>0</td>\n",
       "      <td>0</td>\n",
       "    </tr>\n",
       "    <tr>\n",
       "      <th>13</th>\n",
       "      <td>0</td>\n",
       "      <td>0</td>\n",
       "      <td>0</td>\n",
       "      <td>0</td>\n",
       "      <td>0</td>\n",
       "      <td>0</td>\n",
       "      <td>1</td>\n",
       "      <td>0</td>\n",
       "      <td>25</td>\n",
       "      <td>175</td>\n",
       "      <td>152</td>\n",
       "      <td>160</td>\n",
       "      <td>158</td>\n",
       "      <td>161</td>\n",
       "      <td>160</td>\n",
       "      <td>164</td>\n",
       "      <td>164</td>\n",
       "      <td>161</td>\n",
       "      <td>166</td>\n",
       "      <td>200</td>\n",
       "      <td>0</td>\n",
       "      <td>0</td>\n",
       "      <td>1</td>\n",
       "      <td>0</td>\n",
       "      <td>0</td>\n",
       "      <td>0</td>\n",
       "      <td>0</td>\n",
       "      <td>0</td>\n",
       "    </tr>\n",
       "    <tr>\n",
       "      <th>14</th>\n",
       "      <td>0</td>\n",
       "      <td>0</td>\n",
       "      <td>0</td>\n",
       "      <td>0</td>\n",
       "      <td>0</td>\n",
       "      <td>0</td>\n",
       "      <td>4</td>\n",
       "      <td>0</td>\n",
       "      <td>30</td>\n",
       "      <td>171</td>\n",
       "      <td>147</td>\n",
       "      <td>164</td>\n",
       "      <td>155</td>\n",
       "      <td>165</td>\n",
       "      <td>161</td>\n",
       "      <td>165</td>\n",
       "      <td>162</td>\n",
       "      <td>170</td>\n",
       "      <td>164</td>\n",
       "      <td>162</td>\n",
       "      <td>0</td>\n",
       "      <td>0</td>\n",
       "      <td>2</td>\n",
       "      <td>0</td>\n",
       "      <td>0</td>\n",
       "      <td>0</td>\n",
       "      <td>0</td>\n",
       "      <td>0</td>\n",
       "    </tr>\n",
       "    <tr>\n",
       "      <th>15</th>\n",
       "      <td>0</td>\n",
       "      <td>0</td>\n",
       "      <td>0</td>\n",
       "      <td>0</td>\n",
       "      <td>0</td>\n",
       "      <td>0</td>\n",
       "      <td>4</td>\n",
       "      <td>0</td>\n",
       "      <td>57</td>\n",
       "      <td>166</td>\n",
       "      <td>155</td>\n",
       "      <td>164</td>\n",
       "      <td>166</td>\n",
       "      <td>161</td>\n",
       "      <td>161</td>\n",
       "      <td>164</td>\n",
       "      <td>167</td>\n",
       "      <td>165</td>\n",
       "      <td>165</td>\n",
       "      <td>162</td>\n",
       "      <td>28</td>\n",
       "      <td>0</td>\n",
       "      <td>3</td>\n",
       "      <td>0</td>\n",
       "      <td>0</td>\n",
       "      <td>0</td>\n",
       "      <td>0</td>\n",
       "      <td>0</td>\n",
       "    </tr>\n",
       "    <tr>\n",
       "      <th>16</th>\n",
       "      <td>0</td>\n",
       "      <td>0</td>\n",
       "      <td>0</td>\n",
       "      <td>0</td>\n",
       "      <td>0</td>\n",
       "      <td>0</td>\n",
       "      <td>3</td>\n",
       "      <td>0</td>\n",
       "      <td>114</td>\n",
       "      <td>161</td>\n",
       "      <td>161</td>\n",
       "      <td>166</td>\n",
       "      <td>159</td>\n",
       "      <td>168</td>\n",
       "      <td>161</td>\n",
       "      <td>161</td>\n",
       "      <td>172</td>\n",
       "      <td>162</td>\n",
       "      <td>165</td>\n",
       "      <td>171</td>\n",
       "      <td>50</td>\n",
       "      <td>0</td>\n",
       "      <td>5</td>\n",
       "      <td>0</td>\n",
       "      <td>0</td>\n",
       "      <td>0</td>\n",
       "      <td>0</td>\n",
       "      <td>0</td>\n",
       "    </tr>\n",
       "    <tr>\n",
       "      <th>17</th>\n",
       "      <td>0</td>\n",
       "      <td>0</td>\n",
       "      <td>0</td>\n",
       "      <td>0</td>\n",
       "      <td>0</td>\n",
       "      <td>0</td>\n",
       "      <td>1</td>\n",
       "      <td>0</td>\n",
       "      <td>149</td>\n",
       "      <td>157</td>\n",
       "      <td>167</td>\n",
       "      <td>172</td>\n",
       "      <td>159</td>\n",
       "      <td>172</td>\n",
       "      <td>164</td>\n",
       "      <td>161</td>\n",
       "      <td>172</td>\n",
       "      <td>170</td>\n",
       "      <td>160</td>\n",
       "      <td>171</td>\n",
       "      <td>89</td>\n",
       "      <td>0</td>\n",
       "      <td>4</td>\n",
       "      <td>0</td>\n",
       "      <td>0</td>\n",
       "      <td>0</td>\n",
       "      <td>0</td>\n",
       "      <td>0</td>\n",
       "    </tr>\n",
       "    <tr>\n",
       "      <th>18</th>\n",
       "      <td>0</td>\n",
       "      <td>0</td>\n",
       "      <td>0</td>\n",
       "      <td>0</td>\n",
       "      <td>0</td>\n",
       "      <td>2</td>\n",
       "      <td>0</td>\n",
       "      <td>4</td>\n",
       "      <td>171</td>\n",
       "      <td>164</td>\n",
       "      <td>166</td>\n",
       "      <td>173</td>\n",
       "      <td>159</td>\n",
       "      <td>179</td>\n",
       "      <td>166</td>\n",
       "      <td>160</td>\n",
       "      <td>174</td>\n",
       "      <td>167</td>\n",
       "      <td>162</td>\n",
       "      <td>166</td>\n",
       "      <td>128</td>\n",
       "      <td>0</td>\n",
       "      <td>2</td>\n",
       "      <td>0</td>\n",
       "      <td>0</td>\n",
       "      <td>0</td>\n",
       "      <td>0</td>\n",
       "      <td>0</td>\n",
       "    </tr>\n",
       "    <tr>\n",
       "      <th>19</th>\n",
       "      <td>0</td>\n",
       "      <td>0</td>\n",
       "      <td>0</td>\n",
       "      <td>0</td>\n",
       "      <td>0</td>\n",
       "      <td>3</td>\n",
       "      <td>0</td>\n",
       "      <td>18</td>\n",
       "      <td>152</td>\n",
       "      <td>173</td>\n",
       "      <td>160</td>\n",
       "      <td>179</td>\n",
       "      <td>154</td>\n",
       "      <td>181</td>\n",
       "      <td>166</td>\n",
       "      <td>164</td>\n",
       "      <td>175</td>\n",
       "      <td>170</td>\n",
       "      <td>166</td>\n",
       "      <td>170</td>\n",
       "      <td>164</td>\n",
       "      <td>0</td>\n",
       "      <td>0</td>\n",
       "      <td>1</td>\n",
       "      <td>0</td>\n",
       "      <td>0</td>\n",
       "      <td>0</td>\n",
       "      <td>0</td>\n",
       "    </tr>\n",
       "    <tr>\n",
       "      <th>20</th>\n",
       "      <td>0</td>\n",
       "      <td>0</td>\n",
       "      <td>0</td>\n",
       "      <td>0</td>\n",
       "      <td>0</td>\n",
       "      <td>4</td>\n",
       "      <td>0</td>\n",
       "      <td>47</td>\n",
       "      <td>165</td>\n",
       "      <td>172</td>\n",
       "      <td>167</td>\n",
       "      <td>185</td>\n",
       "      <td>153</td>\n",
       "      <td>187</td>\n",
       "      <td>173</td>\n",
       "      <td>165</td>\n",
       "      <td>174</td>\n",
       "      <td>179</td>\n",
       "      <td>166</td>\n",
       "      <td>166</td>\n",
       "      <td>158</td>\n",
       "      <td>5</td>\n",
       "      <td>0</td>\n",
       "      <td>3</td>\n",
       "      <td>0</td>\n",
       "      <td>0</td>\n",
       "      <td>0</td>\n",
       "      <td>0</td>\n",
       "    </tr>\n",
       "    <tr>\n",
       "      <th>21</th>\n",
       "      <td>0</td>\n",
       "      <td>0</td>\n",
       "      <td>0</td>\n",
       "      <td>0</td>\n",
       "      <td>0</td>\n",
       "      <td>4</td>\n",
       "      <td>0</td>\n",
       "      <td>87</td>\n",
       "      <td>180</td>\n",
       "      <td>162</td>\n",
       "      <td>179</td>\n",
       "      <td>179</td>\n",
       "      <td>157</td>\n",
       "      <td>191</td>\n",
       "      <td>182</td>\n",
       "      <td>165</td>\n",
       "      <td>168</td>\n",
       "      <td>190</td>\n",
       "      <td>173</td>\n",
       "      <td>165</td>\n",
       "      <td>166</td>\n",
       "      <td>20</td>\n",
       "      <td>0</td>\n",
       "      <td>4</td>\n",
       "      <td>0</td>\n",
       "      <td>0</td>\n",
       "      <td>0</td>\n",
       "      <td>0</td>\n",
       "    </tr>\n",
       "    <tr>\n",
       "      <th>22</th>\n",
       "      <td>0</td>\n",
       "      <td>0</td>\n",
       "      <td>0</td>\n",
       "      <td>0</td>\n",
       "      <td>0</td>\n",
       "      <td>4</td>\n",
       "      <td>0</td>\n",
       "      <td>105</td>\n",
       "      <td>187</td>\n",
       "      <td>157</td>\n",
       "      <td>194</td>\n",
       "      <td>175</td>\n",
       "      <td>161</td>\n",
       "      <td>190</td>\n",
       "      <td>184</td>\n",
       "      <td>170</td>\n",
       "      <td>158</td>\n",
       "      <td>205</td>\n",
       "      <td>177</td>\n",
       "      <td>168</td>\n",
       "      <td>171</td>\n",
       "      <td>44</td>\n",
       "      <td>0</td>\n",
       "      <td>4</td>\n",
       "      <td>0</td>\n",
       "      <td>0</td>\n",
       "      <td>0</td>\n",
       "      <td>0</td>\n",
       "    </tr>\n",
       "    <tr>\n",
       "      <th>23</th>\n",
       "      <td>0</td>\n",
       "      <td>0</td>\n",
       "      <td>0</td>\n",
       "      <td>0</td>\n",
       "      <td>0</td>\n",
       "      <td>5</td>\n",
       "      <td>0</td>\n",
       "      <td>138</td>\n",
       "      <td>181</td>\n",
       "      <td>158</td>\n",
       "      <td>205</td>\n",
       "      <td>160</td>\n",
       "      <td>167</td>\n",
       "      <td>190</td>\n",
       "      <td>198</td>\n",
       "      <td>167</td>\n",
       "      <td>152</td>\n",
       "      <td>218</td>\n",
       "      <td>186</td>\n",
       "      <td>170</td>\n",
       "      <td>172</td>\n",
       "      <td>57</td>\n",
       "      <td>0</td>\n",
       "      <td>5</td>\n",
       "      <td>0</td>\n",
       "      <td>0</td>\n",
       "      <td>0</td>\n",
       "      <td>0</td>\n",
       "    </tr>\n",
       "    <tr>\n",
       "      <th>24</th>\n",
       "      <td>0</td>\n",
       "      <td>0</td>\n",
       "      <td>0</td>\n",
       "      <td>0</td>\n",
       "      <td>0</td>\n",
       "      <td>5</td>\n",
       "      <td>0</td>\n",
       "      <td>135</td>\n",
       "      <td>174</td>\n",
       "      <td>167</td>\n",
       "      <td>199</td>\n",
       "      <td>155</td>\n",
       "      <td>166</td>\n",
       "      <td>201</td>\n",
       "      <td>219</td>\n",
       "      <td>165</td>\n",
       "      <td>158</td>\n",
       "      <td>218</td>\n",
       "      <td>188</td>\n",
       "      <td>167</td>\n",
       "      <td>175</td>\n",
       "      <td>56</td>\n",
       "      <td>0</td>\n",
       "      <td>7</td>\n",
       "      <td>0</td>\n",
       "      <td>0</td>\n",
       "      <td>0</td>\n",
       "      <td>0</td>\n",
       "    </tr>\n",
       "    <tr>\n",
       "      <th>25</th>\n",
       "      <td>0</td>\n",
       "      <td>0</td>\n",
       "      <td>0</td>\n",
       "      <td>0</td>\n",
       "      <td>0</td>\n",
       "      <td>5</td>\n",
       "      <td>0</td>\n",
       "      <td>129</td>\n",
       "      <td>171</td>\n",
       "      <td>172</td>\n",
       "      <td>177</td>\n",
       "      <td>153</td>\n",
       "      <td>159</td>\n",
       "      <td>206</td>\n",
       "      <td>216</td>\n",
       "      <td>148</td>\n",
       "      <td>157</td>\n",
       "      <td>206</td>\n",
       "      <td>190</td>\n",
       "      <td>165</td>\n",
       "      <td>175</td>\n",
       "      <td>48</td>\n",
       "      <td>0</td>\n",
       "      <td>5</td>\n",
       "      <td>0</td>\n",
       "      <td>0</td>\n",
       "      <td>0</td>\n",
       "      <td>0</td>\n",
       "    </tr>\n",
       "    <tr>\n",
       "      <th>26</th>\n",
       "      <td>0</td>\n",
       "      <td>0</td>\n",
       "      <td>0</td>\n",
       "      <td>0</td>\n",
       "      <td>0</td>\n",
       "      <td>5</td>\n",
       "      <td>0</td>\n",
       "      <td>167</td>\n",
       "      <td>187</td>\n",
       "      <td>182</td>\n",
       "      <td>198</td>\n",
       "      <td>194</td>\n",
       "      <td>200</td>\n",
       "      <td>226</td>\n",
       "      <td>240</td>\n",
       "      <td>184</td>\n",
       "      <td>206</td>\n",
       "      <td>255</td>\n",
       "      <td>197</td>\n",
       "      <td>178</td>\n",
       "      <td>179</td>\n",
       "      <td>42</td>\n",
       "      <td>0</td>\n",
       "      <td>5</td>\n",
       "      <td>0</td>\n",
       "      <td>0</td>\n",
       "      <td>0</td>\n",
       "      <td>0</td>\n",
       "    </tr>\n",
       "    <tr>\n",
       "      <th>27</th>\n",
       "      <td>0</td>\n",
       "      <td>0</td>\n",
       "      <td>0</td>\n",
       "      <td>0</td>\n",
       "      <td>0</td>\n",
       "      <td>3</td>\n",
       "      <td>0</td>\n",
       "      <td>115</td>\n",
       "      <td>135</td>\n",
       "      <td>113</td>\n",
       "      <td>106</td>\n",
       "      <td>85</td>\n",
       "      <td>82</td>\n",
       "      <td>108</td>\n",
       "      <td>133</td>\n",
       "      <td>83</td>\n",
       "      <td>90</td>\n",
       "      <td>121</td>\n",
       "      <td>120</td>\n",
       "      <td>110</td>\n",
       "      <td>158</td>\n",
       "      <td>18</td>\n",
       "      <td>0</td>\n",
       "      <td>3</td>\n",
       "      <td>0</td>\n",
       "      <td>0</td>\n",
       "      <td>0</td>\n",
       "      <td>0</td>\n",
       "    </tr>\n",
       "  </tbody>\n",
       "</table>\n",
       "</div>"
      ],
      "text/plain": [
       "    0   1   2   3    4    5    6    7   ...   20   21   22   23   24  25  26  27\n",
       "0    0   0   0   0    0    0    0   11  ...  112    0    0    0    0   0   0   0\n",
       "1    0   0   0   0    0    0  152  214  ...  217  188   34    0    0   0   0   0\n",
       "2    0   0   0   0    0   66  185  166  ...  172  188  175    0    0   0   0   0\n",
       "3    0   0   0   0    0  135  153  160  ...  174  161  175   59    0   0   0   0\n",
       "4    0   0   0   0    0  161  147  160  ...  171  164  174  120    0   0   0   0\n",
       "5    0   0   0   0    2  175  146  145  ...  181  171  172  158    0   0   0   0\n",
       "6    0   0   0   0   35  177  155  140  ...  180  161  161  185    0   0   0   0\n",
       "7    0   0   0   0   59  170  153  141  ...  139  149  162  166   21   0   0   0\n",
       "8    0   0   0   0   79  145  160  214  ...  195  193  152  166   61   0   0   0\n",
       "9    0   0   0   0  100  157  225  245  ...  185  240  201  172  108   0   0   0\n",
       "10   0   0   0   0    0   31  174   28  ...   18  132  159    7    0   0   0   0\n",
       "11   0   0   0   0    0    0    0    0  ...    0    0    0    0    0   0   0   0\n",
       "12   0   0   0   0    1    3    5    0  ...    0    0    3    3    0   0   0   0\n",
       "13   0   0   0   0    0    0    1    0  ...    0    0    1    0    0   0   0   0\n",
       "14   0   0   0   0    0    0    4    0  ...    0    0    2    0    0   0   0   0\n",
       "15   0   0   0   0    0    0    4    0  ...   28    0    3    0    0   0   0   0\n",
       "16   0   0   0   0    0    0    3    0  ...   50    0    5    0    0   0   0   0\n",
       "17   0   0   0   0    0    0    1    0  ...   89    0    4    0    0   0   0   0\n",
       "18   0   0   0   0    0    2    0    4  ...  128    0    2    0    0   0   0   0\n",
       "19   0   0   0   0    0    3    0   18  ...  164    0    0    1    0   0   0   0\n",
       "20   0   0   0   0    0    4    0   47  ...  158    5    0    3    0   0   0   0\n",
       "21   0   0   0   0    0    4    0   87  ...  166   20    0    4    0   0   0   0\n",
       "22   0   0   0   0    0    4    0  105  ...  171   44    0    4    0   0   0   0\n",
       "23   0   0   0   0    0    5    0  138  ...  172   57    0    5    0   0   0   0\n",
       "24   0   0   0   0    0    5    0  135  ...  175   56    0    7    0   0   0   0\n",
       "25   0   0   0   0    0    5    0  129  ...  175   48    0    5    0   0   0   0\n",
       "26   0   0   0   0    0    5    0  167  ...  179   42    0    5    0   0   0   0\n",
       "27   0   0   0   0    0    3    0  115  ...  158   18    0    3    0   0   0   0\n",
       "\n",
       "[28 rows x 28 columns]"
      ]
     },
     "metadata": {
      "tags": []
     },
     "output_type": "display_data"
    }
   ],
   "source": [
    "#See the data in a matrix 28x28\n",
    "import pandas as pd\n",
    "\n",
    "val = X_train[img_index]\n",
    "display(pd.DataFrame(val))"
   ]
  },
  {
   "cell_type": "markdown",
   "metadata": {
    "colab_type": "text",
    "id": "zSmEEtnKBzLg"
   },
   "source": [
    "##Data Preprocessing"
   ]
  },
  {
   "cell_type": "markdown",
   "metadata": {
    "colab_type": "text",
    "id": "gIRoe3t3EmCZ"
   },
   "source": [
    "Modifying the values of each pixel such that they range from 0 to 1 will improve the rate at which our model learns."
   ]
  },
  {
   "cell_type": "code",
   "execution_count": 0,
   "metadata": {
    "colab": {},
    "colab_type": "code",
    "id": "iCrZJXWcjnj6"
   },
   "outputs": [],
   "source": [
    "# scale data to the range of [0, 1]\n",
    "X_train = X_train.astype(\"float32\") / 255.0\n",
    "X_test = X_test.astype(\"float32\") / 255.0"
   ]
  },
  {
   "cell_type": "markdown",
   "metadata": {
    "colab_type": "text",
    "id": "YE8bnBeSl6kK"
   },
   "source": [
    "## Split the data into train/validation/test data sets\n",
    "\n",
    "\n",
    "*   Training data - used for training the model\n",
    "*   Validation data - used for tuning the hyperparameters and evaluate the models\n",
    "*   Test data - used to test the model after the model has gone through initial vetting by the validation set."
   ]
  },
  {
   "cell_type": "code",
   "execution_count": 0,
   "metadata": {
    "colab": {},
    "colab_type": "code",
    "id": "C871W2S9l0w5"
   },
   "outputs": [],
   "source": [
    "# Further break training data into train / validation sets (# put 5000 into validation set and keep remaining 55,000 for train)\n",
    "(X_train, X_valid) = X_train[5000:], X_train[:5000] \n",
    "(Y_train, Y_valid) = Y_train[5000:], Y_train[:5000]"
   ]
  },
  {
   "cell_type": "code",
   "execution_count": 39,
   "metadata": {
    "colab": {
     "base_uri": "https://localhost:8080/",
     "height": 35
    },
    "colab_type": "code",
    "executionInfo": {
     "elapsed": 1053,
     "status": "ok",
     "timestamp": 1570948922034,
     "user": {
      "displayName": "Dhomas Hatta Fudholi, Ph.D.",
      "photoUrl": "https://lh3.googleusercontent.com/a-/AAuE7mBqYrpHgIy8ZhipCIEcgOSQI8KscQE8gIDViEpY8w=s64",
      "userId": "00798279027416618606"
     },
     "user_tz": -420
    },
    "id": "V7_tAyMa7Det",
    "outputId": "f580e219-1e49-4a35-d546-580ab9465389"
   },
   "outputs": [
    {
     "data": {
      "text/plain": [
       "55000"
      ]
     },
     "execution_count": 39,
     "metadata": {
      "tags": []
     },
     "output_type": "execute_result"
    }
   ],
   "source": [
    "X_train.shape[0]"
   ]
  },
  {
   "cell_type": "markdown",
   "metadata": {
    "colab_type": "text",
    "id": "7tWWKq3-54Ub"
   },
   "source": [
    "When using a convolutional layer as the first layer to our model, we need to reshape our data to (***n_images, x_shape, y_shape, channels***). All we really need to know is that we should set ***channels*** to **1 for grayscale images** and set ***channels*** to **3** when we have a set of **RGB-images** as input."
   ]
  },
  {
   "cell_type": "code",
   "execution_count": 0,
   "metadata": {
    "colab": {},
    "colab_type": "code",
    "id": "VBbokXLm5pTu"
   },
   "outputs": [],
   "source": [
    "# Reshape input data from (28, 28) to (28, 28, 1)\n",
    "w, h = 28, 28\n",
    "X_train = X_train.reshape(X_train.shape[0], w, h, 1)\n",
    "X_valid = X_valid.reshape(X_valid.shape[0], w, h, 1)\n",
    "X_test = X_test.reshape(X_test.shape[0], w, h, 1)"
   ]
  },
  {
   "cell_type": "code",
   "execution_count": 41,
   "metadata": {
    "colab": {
     "base_uri": "https://localhost:8080/",
     "height": 89
    },
    "colab_type": "code",
    "executionInfo": {
     "elapsed": 1174,
     "status": "ok",
     "timestamp": 1570949447214,
     "user": {
      "displayName": "Dhomas Hatta Fudholi, Ph.D.",
      "photoUrl": "https://lh3.googleusercontent.com/a-/AAuE7mBqYrpHgIy8ZhipCIEcgOSQI8KscQE8gIDViEpY8w=s64",
      "userId": "00798279027416618606"
     },
     "user_tz": -420
    },
    "id": "ZlyXGhm68A4P",
    "outputId": "c3864560-98e3-4137-fd62-0a77715f7b83"
   },
   "outputs": [
    {
     "name": "stdout",
     "output_type": "stream",
     "text": [
      "x_train shape: (55000,) y_train shape: (55000,)\n",
      "55000 train set\n",
      "5000 validation set\n",
      "10000 test set\n"
     ]
    }
   ],
   "source": [
    "# Print training set shape\n",
    "print(\"x_train shape:\", Y_train.shape, \"y_train shape:\", Y_train.shape)\n",
    "\n",
    "# Print the number of training, validation, and test datasets\n",
    "print(X_train.shape[0], 'train set')\n",
    "print(X_valid.shape[0], 'validation set')\n",
    "print(X_test.shape[0], 'test set')"
   ]
  },
  {
   "cell_type": "markdown",
   "metadata": {
    "colab_type": "text",
    "id": "eA2yCgyJ7jXL"
   },
   "source": [
    "Our model cannot work with categorical data directly. Therefore, we must use one hot encoding. In one hot encoding, the digits 0 through 9 are represented as a set of nine zeros and a single one. The digit is determined by the location of the number 1. For example, we’d represent a 3 as [0, 0, 0, 1, 0, 0, 0, 0, 0, 0]."
   ]
  },
  {
   "cell_type": "code",
   "execution_count": 42,
   "metadata": {
    "colab": {
     "base_uri": "https://localhost:8080/",
     "height": 35
    },
    "colab_type": "code",
    "executionInfo": {
     "elapsed": 1097,
     "status": "ok",
     "timestamp": 1570949718251,
     "user": {
      "displayName": "Dhomas Hatta Fudholi, Ph.D.",
      "photoUrl": "https://lh3.googleusercontent.com/a-/AAuE7mBqYrpHgIy8ZhipCIEcgOSQI8KscQE8gIDViEpY8w=s64",
      "userId": "00798279027416618606"
     },
     "user_tz": -420
    },
    "id": "-HyBHfZy6QoO",
    "outputId": "7ba67fe0-a03d-4143-dbe3-7a234253bd6a"
   },
   "outputs": [
    {
     "data": {
      "text/plain": [
       "array([0., 0., 0., 0., 1., 0., 0., 0., 0., 0.], dtype=float32)"
      ]
     },
     "execution_count": 42,
     "metadata": {
      "tags": []
     },
     "output_type": "execute_result"
    }
   ],
   "source": [
    "\n",
    "# One-hot encode the labels\n",
    "Y_train_one_hot = to_categorical(Y_train, 10)\n",
    "Y_valid_one_hot = to_categorical(Y_valid, 10)\n",
    "Y_test_one_hot = to_categorical(Y_test, 10)\n",
    "Y_train_one_hot[0]"
   ]
  },
  {
   "cell_type": "markdown",
   "metadata": {
    "colab_type": "text",
    "id": "Ucsc7nRfG8n6"
   },
   "source": [
    "## Create the model architecture\n",
    "\n",
    "There are two APIs for defining a model in Keras:\n",
    "1. [Sequential model API](https://keras.io/models/sequential/)\n",
    "2. [Functional API](https://keras.io/models/model/)\n",
    "\n",
    "In this notebook we are using the Sequential model API. \n",
    "If you are interested in a tutorial using the Functional API, checkout Sara Robinson's blog [Predicting the price of wine with the Keras Functional API and TensorFlow](https://medium.com/tensorflow/predicting-the-price-of-wine-with-the-keras-functional-api-and-tensorflow-a95d1c2c1b03).\n",
    "\n",
    "In defining the model we will be using some of these Keras APIs:\n",
    "*   Conv2D() [link text]( https://www.pyimagesearch.com/2018/12/31/keras-conv2d-and-convolutional-layers/) - create a convolutional layer \n",
    "*   Pooling() [link text](https://keras.io/layers/pooling/) - create a pooling layer \n",
    "*   BatchNormalization() [link text](https://keras.io/layers/normalization/) - create and configure a BatchNormalization\n",
    "*   Dropout() [link text](https://towardsdatascience.com/machine-learning-part-20-dropout-keras-layers-explained-8c9f6dc4c9ab) - apply drop out "
   ]
  },
  {
   "cell_type": "code",
   "execution_count": 0,
   "metadata": {
    "colab": {},
    "colab_type": "code",
    "id": "qi1oVodakYFf"
   },
   "outputs": [],
   "source": [
    "model = Sequential()\n",
    "model.add(Conv2D(filters=64, \n",
    "                 kernel_size=2,\n",
    "                 padding='same',\n",
    "                 activation='relu',\n",
    "                 input_shape=(28, 28, 1)))\n",
    "model.add(BatchNormalization(axis=-1))\n",
    "model.add(MaxPooling2D(pool_size=(2,2)))\n",
    "model.add(Dropout(0.5))\n",
    "\n",
    "model.add(Conv2D(filters=32, \n",
    "                 kernel_size=2,\n",
    "                 padding='same',\n",
    "                 activation='relu'))\n",
    "model.add(BatchNormalization(axis=-1))\n",
    "model.add(MaxPooling2D(pool_size=(2,2)))\n",
    "model.add(Dropout(0.5))\n",
    "\n",
    "model.add(Flatten())\n",
    "model.add(Dense(256, activation='relu'))\n",
    "model.add(BatchNormalization(axis=-1))\n",
    "model.add(Dropout(0.5))\n",
    "\n",
    "model.add(Dense(10, activation='softmax')) #10 indicates the number of classes"
   ]
  },
  {
   "cell_type": "code",
   "execution_count": 44,
   "metadata": {
    "colab": {
     "base_uri": "https://localhost:8080/",
     "height": 630
    },
    "colab_type": "code",
    "executionInfo": {
     "elapsed": 1116,
     "status": "ok",
     "timestamp": 1570950216474,
     "user": {
      "displayName": "Dhomas Hatta Fudholi, Ph.D.",
      "photoUrl": "https://lh3.googleusercontent.com/a-/AAuE7mBqYrpHgIy8ZhipCIEcgOSQI8KscQE8gIDViEpY8w=s64",
      "userId": "00798279027416618606"
     },
     "user_tz": -420
    },
    "id": "lvKkUxj1mFKV",
    "outputId": "7cd5bb08-0106-4ba9-a54a-b0a095c4b38d"
   },
   "outputs": [
    {
     "name": "stdout",
     "output_type": "stream",
     "text": [
      "Model: \"sequential_2\"\n",
      "_________________________________________________________________\n",
      "Layer (type)                 Output Shape              Param #   \n",
      "=================================================================\n",
      "conv2d_3 (Conv2D)            (None, 28, 28, 64)        320       \n",
      "_________________________________________________________________\n",
      "batch_normalization_4 (Batch (None, 28, 28, 64)        256       \n",
      "_________________________________________________________________\n",
      "max_pooling2d_3 (MaxPooling2 (None, 14, 14, 64)        0         \n",
      "_________________________________________________________________\n",
      "dropout_4 (Dropout)          (None, 14, 14, 64)        0         \n",
      "_________________________________________________________________\n",
      "conv2d_4 (Conv2D)            (None, 14, 14, 32)        8224      \n",
      "_________________________________________________________________\n",
      "batch_normalization_5 (Batch (None, 14, 14, 32)        128       \n",
      "_________________________________________________________________\n",
      "max_pooling2d_4 (MaxPooling2 (None, 7, 7, 32)          0         \n",
      "_________________________________________________________________\n",
      "dropout_5 (Dropout)          (None, 7, 7, 32)          0         \n",
      "_________________________________________________________________\n",
      "flatten_2 (Flatten)          (None, 1568)              0         \n",
      "_________________________________________________________________\n",
      "dense_3 (Dense)              (None, 256)               401664    \n",
      "_________________________________________________________________\n",
      "batch_normalization_6 (Batch (None, 256)               1024      \n",
      "_________________________________________________________________\n",
      "dropout_6 (Dropout)          (None, 256)               0         \n",
      "_________________________________________________________________\n",
      "dense_4 (Dense)              (None, 10)                2570      \n",
      "=================================================================\n",
      "Total params: 414,186\n",
      "Trainable params: 413,482\n",
      "Non-trainable params: 704\n",
      "_________________________________________________________________\n"
     ]
    }
   ],
   "source": [
    "model.summary()"
   ]
  },
  {
   "cell_type": "code",
   "execution_count": 45,
   "metadata": {
    "colab": {
     "base_uri": "https://localhost:8080/",
     "height": 35
    },
    "colab_type": "code",
    "executionInfo": {
     "elapsed": 1076,
     "status": "ok",
     "timestamp": 1570950389204,
     "user": {
      "displayName": "Dhomas Hatta Fudholi, Ph.D.",
      "photoUrl": "https://lh3.googleusercontent.com/a-/AAuE7mBqYrpHgIy8ZhipCIEcgOSQI8KscQE8gIDViEpY8w=s64",
      "userId": "00798279027416618606"
     },
     "user_tz": -420
    },
    "id": "v7O1m5HR8HmP",
    "outputId": "a7d5304b-046e-40bb-92fe-bb25d6b2ff3d"
   },
   "outputs": [
    {
     "data": {
      "text/plain": [
       "1568"
      ]
     },
     "execution_count": 45,
     "metadata": {
      "tags": []
     },
     "output_type": "execute_result"
    }
   ],
   "source": [
    "7*7*32"
   ]
  },
  {
   "cell_type": "markdown",
   "metadata": {
    "colab_type": "text",
    "id": "t2zxQ-OseK7Y"
   },
   "source": [
    "Reference for number of parameter in Dense layer: [link text](https://medium.com/@zhang_yang/number-of-parameters-in-dense-and-convolutional-neural-networks-34b54c2ec349) "
   ]
  },
  {
   "cell_type": "markdown",
   "metadata": {
    "colab_type": "text",
    "id": "qcyvxMAThkhd"
   },
   "source": [
    "##Compile The Model\n",
    "We use model.compile() to configure the learning process before training the model. This is where we define the type of loss function, optimizer and the metrics evaluated by the model during training and testing."
   ]
  },
  {
   "cell_type": "code",
   "execution_count": 0,
   "metadata": {
    "colab": {},
    "colab_type": "code",
    "id": "tUf7I-7iIx0_"
   },
   "outputs": [],
   "source": [
    "model.compile(loss=keras.losses.categorical_crossentropy, optimizer=keras.optimizers.Adam(),metrics=['accuracy'])"
   ]
  },
  {
   "cell_type": "code",
   "execution_count": 47,
   "metadata": {
    "colab": {
     "base_uri": "https://localhost:8080/",
     "height": 1000
    },
    "colab_type": "code",
    "executionInfo": {
     "elapsed": 1734,
     "status": "ok",
     "timestamp": 1570950520341,
     "user": {
      "displayName": "Dhomas Hatta Fudholi, Ph.D.",
      "photoUrl": "https://lh3.googleusercontent.com/a-/AAuE7mBqYrpHgIy8ZhipCIEcgOSQI8KscQE8gIDViEpY8w=s64",
      "userId": "00798279027416618606"
     },
     "user_tz": -420
    },
    "id": "QrbTCAxkpCZ7",
    "outputId": "1dd07d57-4246-4982-8f47-4432ddf47c9e"
   },
   "outputs": [
    {
     "data": {
      "image/png": "[encoded data removed]",
      "text/plain": [
       "<IPython.core.display.Image object>"
      ]
     },
     "execution_count": 47,
     "metadata": {
      "tags": []
     },
     "output_type": "execute_result"
    }
   ],
   "source": [
    "from keras.utils import plot_model\n",
    "\n",
    "plot_model(model, show_shapes=True, to_file='CNN.png')\n",
    "\n",
    "from IPython.display import Image\n",
    "Image('CNN.png')"
   ]
  },
  {
   "cell_type": "code",
   "execution_count": 0,
   "metadata": {
    "colab": {
     "base_uri": "https://localhost:8080/",
     "height": 86
    },
    "colab_type": "code",
    "executionInfo": {
     "elapsed": 1105,
     "status": "ok",
     "timestamp": 1570922532440,
     "user": {
      "displayName": "Dhomas Hatta Fudholi, Ph.D.",
      "photoUrl": "https://lh3.googleusercontent.com/a-/AAuE7mBqYrpHgIy8ZhipCIEcgOSQI8KscQE8gIDViEpY8w=s64",
      "userId": "00798279027416618606"
     },
     "user_tz": -420
    },
    "id": "94xA2z7RARRw",
    "outputId": "77653d4b-041d-472e-9bcb-5a51edce7a41"
   },
   "outputs": [
    {
     "name": "stdout",
     "output_type": "stream",
     "text": [
      "(55000, 28, 28, 1)\n",
      "(55000, 10)\n",
      "(5000, 28, 28, 1)\n",
      "(5000, 10)\n"
     ]
    }
   ],
   "source": [
    "#These codes aim to make sure that all dimension have the same shape \n",
    "print(X_train.shape)\n",
    "print(Y_train_one_hot.shape)\n",
    "print(X_valid.shape)\n",
    "print(Y_valid_one_hot.shape)"
   ]
  },
  {
   "cell_type": "markdown",
   "metadata": {
    "colab_type": "text",
    "id": "CCvbQR4Eh4nJ"
   },
   "source": [
    "##Train The Model\n",
    "We will train the model with a batch_size of 64 and 10 epochs. Check out this [link text](https://towardsdatascience.com/epoch-vs-iterations-vs-batch-size-4dfb9c7ce9c9) to learn more about epoch, iterations, and batch.\n",
    "\n",
    "\n",
    "\n",
    "1.   **Epoch**: One Epoch is when an ENTIRE dataset is passed forward and backward through the neural network only ONCE.\n",
    "2.   **Batch size**: Total number of training examples present in a single batch.\n",
    "3.   **Iterations**: Iterations is the number of batches needed to complete one epoch.\n",
    "\n",
    "Let’s say we have 2000 training examples that we are going to use .\n",
    "We can divide the dataset of 2000 examples into batches of 500 then it will take 4 iterations to complete 1 epoch.\n",
    "\n"
   ]
  },
  {
   "cell_type": "code",
   "execution_count": 48,
   "metadata": {
    "colab": {
     "base_uri": "https://localhost:8080/",
     "height": 776
    },
    "colab_type": "code",
    "executionInfo": {
     "elapsed": 1311487,
     "status": "ok",
     "timestamp": 1570952374337,
     "user": {
      "displayName": "Dhomas Hatta Fudholi, Ph.D.",
      "photoUrl": "https://lh3.googleusercontent.com/a-/AAuE7mBqYrpHgIy8ZhipCIEcgOSQI8KscQE8gIDViEpY8w=s64",
      "userId": "00798279027416618606"
     },
     "user_tz": -420
    },
    "id": "fb9KV6h4lpnX",
    "outputId": "10a993e4-ffc0-404a-8bcc-dcd5a09da98d"
   },
   "outputs": [
    {
     "name": "stdout",
     "output_type": "stream",
     "text": [
      "Train on 55000 samples, validate on 5000 samples\n",
      "Epoch 1/10\n",
      "55000/55000 [==============================] - 132s 2ms/step - loss: 0.8368 - acc: 0.7190 - val_loss: 0.4101 - val_acc: 0.8502\n",
      "\n",
      "Epoch 00001: val_loss improved from inf to 0.41007, saving model to model.weights.best.hdf5\n",
      "Epoch 2/10\n",
      "55000/55000 [==============================] - 131s 2ms/step - loss: 0.5146 - acc: 0.8113 - val_loss: 0.3597 - val_acc: 0.8690\n",
      "\n",
      "Epoch 00002: val_loss improved from 0.41007 to 0.35969, saving model to model.weights.best.hdf5\n",
      "Epoch 3/10\n",
      "55000/55000 [==============================] - 131s 2ms/step - loss: 0.4476 - acc: 0.8356 - val_loss: 0.3382 - val_acc: 0.8756\n",
      "\n",
      "Epoch 00003: val_loss improved from 0.35969 to 0.33822, saving model to model.weights.best.hdf5\n",
      "Epoch 4/10\n",
      "55000/55000 [==============================] - 131s 2ms/step - loss: 0.4151 - acc: 0.8488 - val_loss: 0.3159 - val_acc: 0.8838\n",
      "\n",
      "Epoch 00004: val_loss improved from 0.33822 to 0.31585, saving model to model.weights.best.hdf5\n",
      "Epoch 5/10\n",
      "55000/55000 [==============================] - 131s 2ms/step - loss: 0.3922 - acc: 0.8550 - val_loss: 0.2926 - val_acc: 0.8914\n",
      "\n",
      "Epoch 00005: val_loss improved from 0.31585 to 0.29258, saving model to model.weights.best.hdf5\n",
      "Epoch 6/10\n",
      "55000/55000 [==============================] - 131s 2ms/step - loss: 0.3679 - acc: 0.8650 - val_loss: 0.2893 - val_acc: 0.8924\n",
      "\n",
      "Epoch 00006: val_loss improved from 0.29258 to 0.28934, saving model to model.weights.best.hdf5\n",
      "Epoch 7/10\n",
      "55000/55000 [==============================] - 131s 2ms/step - loss: 0.3523 - acc: 0.8722 - val_loss: 0.2932 - val_acc: 0.8942\n",
      "\n",
      "Epoch 00007: val_loss did not improve from 0.28934\n",
      "Epoch 8/10\n",
      "55000/55000 [==============================] - 130s 2ms/step - loss: 0.3416 - acc: 0.8751 - val_loss: 0.2634 - val_acc: 0.9030\n",
      "\n",
      "Epoch 00008: val_loss improved from 0.28934 to 0.26338, saving model to model.weights.best.hdf5\n",
      "Epoch 9/10\n",
      "55000/55000 [==============================] - 131s 2ms/step - loss: 0.3320 - acc: 0.8773 - val_loss: 0.3423 - val_acc: 0.8682\n",
      "\n",
      "Epoch 00009: val_loss did not improve from 0.26338\n",
      "Epoch 10/10\n",
      "55000/55000 [==============================] - 131s 2ms/step - loss: 0.3182 - acc: 0.8827 - val_loss: 0.2566 - val_acc: 0.9034\n",
      "\n",
      "Epoch 00010: val_loss improved from 0.26338 to 0.25662, saving model to model.weights.best.hdf5\n"
     ]
    }
   ],
   "source": [
    "from keras.callbacks import ModelCheckpoint\n",
    "\n",
    "checkpointer = ModelCheckpoint(filepath='model.weights.best.hdf5', verbose = 1, save_best_only=True)\n",
    "hst = model.fit(X_train,\n",
    "         Y_train_one_hot,\n",
    "         batch_size=500,\n",
    "         epochs=10,\n",
    "         validation_data=(X_valid, Y_valid_one_hot),\n",
    "         callbacks=[checkpointer])"
   ]
  },
  {
   "cell_type": "code",
   "execution_count": 49,
   "metadata": {
    "colab": {
     "base_uri": "https://localhost:8080/",
     "height": 71
    },
    "colab_type": "code",
    "executionInfo": {
     "elapsed": 10821,
     "status": "ok",
     "timestamp": 1570952553075,
     "user": {
      "displayName": "Dhomas Hatta Fudholi, Ph.D.",
      "photoUrl": "https://lh3.googleusercontent.com/a-/AAuE7mBqYrpHgIy8ZhipCIEcgOSQI8KscQE8gIDViEpY8w=s64",
      "userId": "00798279027416618606"
     },
     "user_tz": -420
    },
    "id": "3fB-lFgxIiEf",
    "outputId": "c44da08a-52fe-49de-d883-0260ee746505"
   },
   "outputs": [
    {
     "name": "stdout",
     "output_type": "stream",
     "text": [
      "10000/10000 [==============================] - 10s 1ms/step\n",
      "Test loss 0.2895100358366966\n",
      "Test accuracy 0.8936\n"
     ]
    }
   ],
   "source": [
    "test_loss, test_acc = model.evaluate(X_test, Y_test_one_hot)\n",
    "print('Test loss', test_loss)\n",
    "print('Test accuracy', test_acc)"
   ]
  },
  {
   "cell_type": "code",
   "execution_count": 50,
   "metadata": {
    "colab": {
     "base_uri": "https://localhost:8080/",
     "height": 35
    },
    "colab_type": "code",
    "executionInfo": {
     "elapsed": 1082,
     "status": "ok",
     "timestamp": 1570952683814,
     "user": {
      "displayName": "Dhomas Hatta Fudholi, Ph.D.",
      "photoUrl": "https://lh3.googleusercontent.com/a-/AAuE7mBqYrpHgIy8ZhipCIEcgOSQI8KscQE8gIDViEpY8w=s64",
      "userId": "00798279027416618606"
     },
     "user_tz": -420
    },
    "id": "Qj6tWZlxLEdQ",
    "outputId": "7c2d6d70-737e-4e57-e006-5a3eae97ab32"
   },
   "outputs": [
    {
     "data": {
      "text/plain": [
       "array([9, 2], dtype=uint8)"
      ]
     },
     "execution_count": 50,
     "metadata": {
      "tags": []
     },
     "output_type": "execute_result"
    }
   ],
   "source": [
    "model.predict(X_test[:2])\n",
    "Y_test[:2]"
   ]
  },
  {
   "cell_type": "code",
   "execution_count": 52,
   "metadata": {
    "colab": {
     "base_uri": "https://localhost:8080/",
     "height": 287
    },
    "colab_type": "code",
    "executionInfo": {
     "elapsed": 10858,
     "status": "ok",
     "timestamp": 1570952890196,
     "user": {
      "displayName": "Dhomas Hatta Fudholi, Ph.D.",
      "photoUrl": "https://lh3.googleusercontent.com/a-/AAuE7mBqYrpHgIy8ZhipCIEcgOSQI8KscQE8gIDViEpY8w=s64",
      "userId": "00798279027416618606"
     },
     "user_tz": -420
    },
    "id": "pu0H5LlwKFIY",
    "outputId": "b688bdf9-6d00-4f52-b9b8-f6477175a0cf"
   },
   "outputs": [
    {
     "name": "stdout",
     "output_type": "stream",
     "text": [
      "3\n"
     ]
    },
    {
     "data": {
      "image/png": "[encoded data removed]",
      "text/plain": [
       "<Figure size 432x288 with 1 Axes>"
      ]
     },
     "metadata": {
      "tags": []
     },
     "output_type": "display_data"
    }
   ],
   "source": [
    "predictions = model.predict(X_test)\n",
    "print(np.argmax(np.round(predictions[100])))\n",
    "plt.imshow(X_test[100].reshape(28, 28), cmap = plt.cm.binary)\n",
    "plt.show()"
   ]
  },
  {
   "cell_type": "code",
   "execution_count": 53,
   "metadata": {
    "colab": {
     "base_uri": "https://localhost:8080/",
     "height": 35
    },
    "colab_type": "code",
    "executionInfo": {
     "elapsed": 1067,
     "status": "ok",
     "timestamp": 1570952897811,
     "user": {
      "displayName": "Dhomas Hatta Fudholi, Ph.D.",
      "photoUrl": "https://lh3.googleusercontent.com/a-/AAuE7mBqYrpHgIy8ZhipCIEcgOSQI8KscQE8gIDViEpY8w=s64",
      "userId": "00798279027416618606"
     },
     "user_tz": -420
    },
    "id": "Aq_VpOLQgi4y",
    "outputId": "d1f82ee1-b588-482f-d1ce-41ea1a0bf8ca"
   },
   "outputs": [
    {
     "data": {
      "text/plain": [
       "'Dress'"
      ]
     },
     "execution_count": 53,
     "metadata": {
      "tags": []
     },
     "output_type": "execute_result"
    }
   ],
   "source": [
    "fashion_mnist_labels[3]"
   ]
  },
  {
   "cell_type": "code",
   "execution_count": 54,
   "metadata": {
    "colab": {
     "base_uri": "https://localhost:8080/",
     "height": 281
    },
    "colab_type": "code",
    "executionInfo": {
     "elapsed": 1140,
     "status": "ok",
     "timestamp": 1570952928434,
     "user": {
      "displayName": "Dhomas Hatta Fudholi, Ph.D.",
      "photoUrl": "https://lh3.googleusercontent.com/a-/AAuE7mBqYrpHgIy8ZhipCIEcgOSQI8KscQE8gIDViEpY8w=s64",
      "userId": "00798279027416618606"
     },
     "user_tz": -420
    },
    "id": "4hP79h2_bH-x",
    "outputId": "e98ceb1f-f378-43af-a474-588e44022d6b"
   },
   "outputs": [
    {
     "data": {
      "image/png": "[encoded data removed]",
      "text/plain": [
       "<Figure size 432x288 with 1 Axes>"
      ]
     },
     "metadata": {
      "tags": []
     },
     "output_type": "display_data"
    }
   ],
   "source": [
    "# visualisasi loss tiap epoch\n",
    "import matplotlib.pyplot as plt\n",
    "\n",
    "plt.title('Loss')\n",
    "plt.plot(hst.history['loss'], label='train')\n",
    "plt.plot(hst.history['val_loss'], label='validation')\n",
    "plt.legend()\n",
    "plt.show()"
   ]
  },
  {
   "cell_type": "code",
   "execution_count": 55,
   "metadata": {
    "colab": {
     "base_uri": "https://localhost:8080/",
     "height": 281
    },
    "colab_type": "code",
    "executionInfo": {
     "elapsed": 1205,
     "status": "ok",
     "timestamp": 1570952931960,
     "user": {
      "displayName": "Dhomas Hatta Fudholi, Ph.D.",
      "photoUrl": "https://lh3.googleusercontent.com/a-/AAuE7mBqYrpHgIy8ZhipCIEcgOSQI8KscQE8gIDViEpY8w=s64",
      "userId": "00798279027416618606"
     },
     "user_tz": -420
    },
    "id": "50uwmAKrayZU",
    "outputId": "8a1837b0-b5f3-44c1-a621-2b18b7e1efe0"
   },
   "outputs": [
    {
     "data": {
      "image/png": "[encoded data removed]",
      "text/plain": [
       "<Figure size 432x288 with 1 Axes>"
      ]
     },
     "metadata": {
      "tags": []
     },
     "output_type": "display_data"
    }
   ],
   "source": [
    "# visualisasi accuracy tiap epoch\n",
    "plt.title('Accuracy')\n",
    "plt.plot(hst.history['acc'], label='train')\n",
    "plt.plot(hst.history['val_acc'], label='validation')\n",
    "plt.legend()\n",
    "plt.show()"
   ]
  },
  {
   "cell_type": "markdown",
   "metadata": {
    "colab_type": "text",
    "id": "cv_16LCSmPSD"
   },
   "source": [
    "##References\n",
    "\n",
    "\n",
    "\n",
    "*   https://towardsdatascience.com/mnist-cnn-python-c61a5bce7a19\n",
    "*   https://medium.com/tensorflow/hello-deep-learning-fashion-mnist-with-keras-50fcff8cd74a\n",
    "*   https://machinelearningmastery.com/how-to-accelerate-learning-of-deep-neural-networks-with-batch-normalization/\n",
    "*   https://machinelearningmastery.com/learning-curves-for-diagnosing-machine-learning-model-performance/\n",
    "*   https://www.opencodez.com/python/text-classification-using-keras.htm\n"
   ]
  },
  {
   "cell_type": "code",
   "execution_count": 0,
   "metadata": {
    "colab": {},
    "colab_type": "code",
    "id": "4UC6FlFm8iSW"
   },
   "outputs": [],
   "source": []
  }
 ],
 "metadata": {
  "colab": {
   "name": "CNN_Supervised_Deep_Learning.ipynb",
   "provenance": []
  },
  "kernelspec": {
   "display_name": "Python 3",
   "language": "python",
   "name": "python3"
  },
  "language_info": {
   "codemirror_mode": {
    "name": "ipython",
    "version": 3
   },
   "file_extension": ".py",
   "mimetype": "text/x-python",
   "name": "python",
   "nbconvert_exporter": "python",
   "pygments_lexer": "ipython3",
   "version": "3.7.3"
  }
 },
 "nbformat": 4,
 "nbformat_minor": 1
}
