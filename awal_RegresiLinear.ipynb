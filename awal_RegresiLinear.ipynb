{
 "cells": [
  {
   "cell_type": "code",
   "execution_count": 14,
   "metadata": {},
   "outputs": [],
   "source": [
    "import numpy as np\n",
    "import pandas as pd\n",
    "import matplotlib.pyplot as plt"
   ]
  },
  {
   "cell_type": "code",
   "execution_count": 15,
   "metadata": {},
   "outputs": [],
   "source": [
    "plt.rcParams['figure.figsize']=(12.0, 9.0)"
   ]
  },
  {
   "cell_type": "code",
   "execution_count": 16,
   "metadata": {},
   "outputs": [],
   "source": [
    "file=pd.read_csv(\"data.csv\")"
   ]
  },
  {
   "cell_type": "code",
   "execution_count": 17,
   "metadata": {},
   "outputs": [
    {
     "name": "stdout",
     "output_type": "stream",
     "text": [
      "            x           y\n",
      "0   32.502345   31.707006\n",
      "1   53.426804   68.777596\n",
      "2   61.530358   62.562382\n",
      "3   47.475640   71.546632\n",
      "4   59.813208   87.230925\n",
      "5   55.142188   78.211518\n",
      "6   52.211797   79.641973\n",
      "7   39.299567   59.171489\n",
      "8   48.105042   75.331242\n",
      "9   52.550014   71.300880\n",
      "10  45.419730   55.165677\n",
      "11  54.351635   82.478847\n",
      "12  44.164049   62.008923\n",
      "13  58.168471   75.392870\n",
      "14  56.727208   81.436192\n",
      "15  48.955889   60.723602\n",
      "16  44.687196   82.892504\n",
      "17  60.297327   97.379897\n",
      "18  45.618644   48.847153\n",
      "19  38.816818   56.877213\n",
      "20  66.189817   83.878565\n",
      "21  65.416052  118.591217\n",
      "22  47.481209   57.251819\n",
      "23  41.575643   51.391744\n",
      "24  51.845187   75.380652\n",
      "25  59.370822   74.765564\n",
      "26  57.310003   95.455053\n",
      "27  63.615561   95.229366\n",
      "28  46.737619   79.052406\n",
      "29  50.556760   83.432071\n",
      "..        ...         ...\n",
      "70  31.588117   50.392670\n",
      "71  53.660932   63.642399\n",
      "72  46.682229   72.247251\n",
      "73  43.107820   57.812513\n",
      "74  70.346076  104.257102\n",
      "75  44.492856   86.642020\n",
      "76  57.504533   91.486778\n",
      "77  36.930077   55.231661\n",
      "78  55.805733   79.550437\n",
      "79  38.954769   44.847124\n",
      "80  56.901215   80.207523\n",
      "81  56.868901   83.142750\n",
      "82  34.333125   55.723489\n",
      "83  59.049741   77.634183\n",
      "84  57.788224   99.051415\n",
      "85  54.282329   79.120646\n",
      "86  51.088720   69.588898\n",
      "87  50.282836   69.510503\n",
      "88  44.211742   73.687564\n",
      "89  38.005488   61.366905\n",
      "90  32.940480   67.170656\n",
      "91  53.691640   85.668203\n",
      "92  68.765734  114.853871\n",
      "93  46.230967   90.123572\n",
      "94  68.319361   97.919821\n",
      "95  50.030174   81.536991\n",
      "96  49.239765   72.111832\n",
      "97  50.039576   85.232007\n",
      "98  48.149859   66.224958\n",
      "99  25.128485   53.454394\n",
      "\n",
      "[100 rows x 2 columns]\n"
     ]
    }
   ],
   "source": [
    "print(file)"
   ]
  },
  {
   "cell_type": "code",
   "execution_count": 18,
   "metadata": {},
   "outputs": [
    {
     "data": {
      "text/html": [
       "<div>\n",
       "<style scoped>\n",
       "    .dataframe tbody tr th:only-of-type {\n",
       "        vertical-align: middle;\n",
       "    }\n",
       "\n",
       "    .dataframe tbody tr th {\n",
       "        vertical-align: top;\n",
       "    }\n",
       "\n",
       "    .dataframe thead th {\n",
       "        text-align: right;\n",
       "    }\n",
       "</style>\n",
       "<table border=\"1\" class=\"dataframe\">\n",
       "  <thead>\n",
       "    <tr style=\"text-align: right;\">\n",
       "      <th></th>\n",
       "      <th>x</th>\n",
       "      <th>y</th>\n",
       "    </tr>\n",
       "  </thead>\n",
       "  <tbody>\n",
       "    <tr>\n",
       "      <th>0</th>\n",
       "      <td>32.502345</td>\n",
       "      <td>31.707006</td>\n",
       "    </tr>\n",
       "    <tr>\n",
       "      <th>1</th>\n",
       "      <td>53.426804</td>\n",
       "      <td>68.777596</td>\n",
       "    </tr>\n",
       "    <tr>\n",
       "      <th>2</th>\n",
       "      <td>61.530358</td>\n",
       "      <td>62.562382</td>\n",
       "    </tr>\n",
       "    <tr>\n",
       "      <th>3</th>\n",
       "      <td>47.475640</td>\n",
       "      <td>71.546632</td>\n",
       "    </tr>\n",
       "    <tr>\n",
       "      <th>4</th>\n",
       "      <td>59.813208</td>\n",
       "      <td>87.230925</td>\n",
       "    </tr>\n",
       "  </tbody>\n",
       "</table>\n",
       "</div>"
      ],
      "text/plain": [
       "           x          y\n",
       "0  32.502345  31.707006\n",
       "1  53.426804  68.777596\n",
       "2  61.530358  62.562382\n",
       "3  47.475640  71.546632\n",
       "4  59.813208  87.230925"
      ]
     },
     "execution_count": 18,
     "metadata": {},
     "output_type": "execute_result"
    }
   ],
   "source": [
    "file.head()"
   ]
  },
  {
   "cell_type": "code",
   "execution_count": 19,
   "metadata": {},
   "outputs": [],
   "source": [
    "x=file.iloc[:,0]"
   ]
  },
  {
   "cell_type": "code",
   "execution_count": 20,
   "metadata": {},
   "outputs": [
    {
     "name": "stdout",
     "output_type": "stream",
     "text": [
      "0     32.502345\n",
      "1     53.426804\n",
      "2     61.530358\n",
      "3     47.475640\n",
      "4     59.813208\n",
      "5     55.142188\n",
      "6     52.211797\n",
      "7     39.299567\n",
      "8     48.105042\n",
      "9     52.550014\n",
      "10    45.419730\n",
      "11    54.351635\n",
      "12    44.164049\n",
      "13    58.168471\n",
      "14    56.727208\n",
      "15    48.955889\n",
      "16    44.687196\n",
      "17    60.297327\n",
      "18    45.618644\n",
      "19    38.816818\n",
      "20    66.189817\n",
      "21    65.416052\n",
      "22    47.481209\n",
      "23    41.575643\n",
      "24    51.845187\n",
      "25    59.370822\n",
      "26    57.310003\n",
      "27    63.615561\n",
      "28    46.737619\n",
      "29    50.556760\n",
      "        ...    \n",
      "70    31.588117\n",
      "71    53.660932\n",
      "72    46.682229\n",
      "73    43.107820\n",
      "74    70.346076\n",
      "75    44.492856\n",
      "76    57.504533\n",
      "77    36.930077\n",
      "78    55.805733\n",
      "79    38.954769\n",
      "80    56.901215\n",
      "81    56.868901\n",
      "82    34.333125\n",
      "83    59.049741\n",
      "84    57.788224\n",
      "85    54.282329\n",
      "86    51.088720\n",
      "87    50.282836\n",
      "88    44.211742\n",
      "89    38.005488\n",
      "90    32.940480\n",
      "91    53.691640\n",
      "92    68.765734\n",
      "93    46.230967\n",
      "94    68.319361\n",
      "95    50.030174\n",
      "96    49.239765\n",
      "97    50.039576\n",
      "98    48.149859\n",
      "99    25.128485\n",
      "Name: x, Length: 100, dtype: float64\n"
     ]
    }
   ],
   "source": [
    "print(x)"
   ]
  },
  {
   "cell_type": "code",
   "execution_count": 21,
   "metadata": {},
   "outputs": [],
   "source": [
    "y=file.iloc[:,1]"
   ]
  },
  {
   "cell_type": "code",
   "execution_count": 22,
   "metadata": {},
   "outputs": [
    {
     "name": "stdout",
     "output_type": "stream",
     "text": [
      "0      31.707006\n",
      "1      68.777596\n",
      "2      62.562382\n",
      "3      71.546632\n",
      "4      87.230925\n",
      "5      78.211518\n",
      "6      79.641973\n",
      "7      59.171489\n",
      "8      75.331242\n",
      "9      71.300880\n",
      "10     55.165677\n",
      "11     82.478847\n",
      "12     62.008923\n",
      "13     75.392870\n",
      "14     81.436192\n",
      "15     60.723602\n",
      "16     82.892504\n",
      "17     97.379897\n",
      "18     48.847153\n",
      "19     56.877213\n",
      "20     83.878565\n",
      "21    118.591217\n",
      "22     57.251819\n",
      "23     51.391744\n",
      "24     75.380652\n",
      "25     74.765564\n",
      "26     95.455053\n",
      "27     95.229366\n",
      "28     79.052406\n",
      "29     83.432071\n",
      "         ...    \n",
      "70     50.392670\n",
      "71     63.642399\n",
      "72     72.247251\n",
      "73     57.812513\n",
      "74    104.257102\n",
      "75     86.642020\n",
      "76     91.486778\n",
      "77     55.231661\n",
      "78     79.550437\n",
      "79     44.847124\n",
      "80     80.207523\n",
      "81     83.142750\n",
      "82     55.723489\n",
      "83     77.634183\n",
      "84     99.051415\n",
      "85     79.120646\n",
      "86     69.588898\n",
      "87     69.510503\n",
      "88     73.687564\n",
      "89     61.366905\n",
      "90     67.170656\n",
      "91     85.668203\n",
      "92    114.853871\n",
      "93     90.123572\n",
      "94     97.919821\n",
      "95     81.536991\n",
      "96     72.111832\n",
      "97     85.232007\n",
      "98     66.224958\n",
      "99     53.454394\n",
      "Name: y, Length: 100, dtype: float64\n"
     ]
    }
   ],
   "source": [
    "print(y)"
   ]
  },
  {
   "cell_type": "code",
   "execution_count": 23,
   "metadata": {},
   "outputs": [],
   "source": [
    "from sklearn.linear_model import LinearRegression"
   ]
  },
  {
   "cell_type": "code",
   "execution_count": 24,
   "metadata": {},
   "outputs": [],
   "source": [
    "persamaan=LinearRegression()\n",
    "x1=file.iloc[:,0].values\n",
    "y1=file.iloc[:,1].values"
   ]
  },
  {
   "cell_type": "code",
   "execution_count": 25,
   "metadata": {},
   "outputs": [
    {
     "name": "stdout",
     "output_type": "stream",
     "text": [
      "[1.32243102] 7.991020985734451\n"
     ]
    },
    {
     "data": {
      "image/png": "[encoded data removed]",
      "text/plain": [
       "<Figure size 864x648 with 1 Axes>"
      ]
     },
     "metadata": {
      "needs_background": "light"
     },
     "output_type": "display_data"
    }
   ],
   "source": [
    "persamaan.fit(x1.reshape(-1,1),y1)\n",
    "slope=persamaan.coef_\n",
    "intercept=persamaan.intercept_\n",
    "y_predi=(persamaan.coef_*x1)+persamaan.intercept_\n",
    "plt.scatter(x1,y1)\n",
    "plt.plot([min(x1),max(x1)],[min(y_predi),max(y_predi)],color='red')\n",
    "print(slope,intercept)"
   ]
  },
  {
   "cell_type": "code",
   "execution_count": 26,
   "metadata": {},
   "outputs": [
    {
     "data": {
      "text/plain": [
       "<matplotlib.collections.PathCollection at 0xb507908>"
      ]
     },
     "execution_count": 26,
     "metadata": {},
     "output_type": "execute_result"
    },
    {
     "data": {
      "image/png": "[encoded data removed]",
      "text/plain": [
       "<Figure size 864x648 with 1 Axes>"
      ]
     },
     "metadata": {
      "needs_background": "light"
     },
     "output_type": "display_data"
    }
   ],
   "source": [
    "plt.scatter(x,y)"
   ]
  },
  {
   "cell_type": "code",
   "execution_count": 27,
   "metadata": {},
   "outputs": [
    {
     "name": "stdout",
     "output_type": "stream",
     "text": [
      "Iterasi ke:  1  a:  0.7370702973620529  b:  0.014547010110779997\n",
      "Iterasi ke:  2  a:  1.1067954543544998  b:  0.021873962959646956\n",
      "Iterasi ke:  3  a:  1.2922546649153903  b:  0.02557922432134816\n",
      "Iterasi ke:  4  a:  1.385283255652807  b:  0.027467789559209258\n",
      "Iterasi ke:  5  a:  1.4319472323853406  b:  0.028445071981820006\n",
      "Iterasi ke:  6  a:  1.4553540088986976  b:  0.028965240766580722\n",
      "Iterasi ke:  7  a:  1.4670946177205637  b:  0.02925611412617323\n",
      "Iterasi ke:  8  a:  1.472983298224667  b:  0.029431969163960223\n",
      "Iterasi ke:  9  a:  1.4759365618964382  b:  0.029550129024564026\n",
      "Iterasi ke:  10  a:  1.4774173755485427  b:  0.029639347874941963\n",
      "Iterasi ke:  11  a:  1.4781595857321257  b:  0.02971404924546568\n",
      "Iterasi ke:  12  a:  1.478531301112377  b:  0.029781468199794464\n",
      "Iterasi ke:  13  a:  1.4787171706314721  b:  0.02984523395662981\n",
      "Iterasi ke:  14  a:  1.4788098170257677  b:  0.029907166987637155\n",
      "Iterasi ke:  15  a:  1.4788557012778676  b:  0.029968180469276875\n",
      "Iterasi ke:  16  a:  1.4788781289279596  b:  0.030028732464843864\n",
      "Iterasi ke:  17  a:  1.4788887903918082  b:  0.030089052745901464\n",
      "Iterasi ke:  18  a:  1.4788935497609403  b:  0.030149256569385337\n",
      "Iterasi ke:  19  a:  1.4788953485534444  b:  0.03020940174994069\n",
      "Iterasi ke:  20  a:  1.4788956622798282  b:  0.030269517288280406\n",
      "Iterasi ke:  21  a:  1.478895231078752  b:  0.03032961773160777\n",
      "Iterasi ke:  22  a:  1.4788944262150996  b:  0.030389710377024374\n",
      "Iterasi ke:  23  a:  1.4788934339210207  b:  0.0304497988848698\n",
      "Iterasi ke:  24  a:  1.4788923476134126  b:  0.030509885091228123\n",
      "Iterasi ke:  25  a:  1.478891214151621  b:  0.030569969917108936\n"
     ]
    },
    {
     "data": {
      "image/png": "[encoded data removed]",
      "text/plain": [
       "<Figure size 864x648 with 1 Axes>"
      ]
     },
     "metadata": {
      "needs_background": "light"
     },
     "output_type": "display_data"
    }
   ],
   "source": [
    "a=0\n",
    "b=0\n",
    "L=0.0001\n",
    "epochs=25\n",
    "n=float(len(x))\n",
    "for i in range(epochs):\n",
    "    y_predik=(a*x)+b\n",
    "    D_a=(-2/n)*sum(x*(y-y_predik))\n",
    "    D_b=(-2/n)*sum(y-y_predik)\n",
    "    a=a-L*D_a\n",
    "    b=b-L*D_b\n",
    "    print(\"Iterasi ke: \",i+1,\" a: \",a,\" b: \",b)\n",
    "    plt.scatter(x,y)\n",
    "    plt.plot([min(x),max(x)],[min(y_predik),max(y_predik)],color='red')"
   ]
  },
  {
   "cell_type": "code",
   "execution_count": 28,
   "metadata": {},
   "outputs": [
    {
     "name": "stdout",
     "output_type": "stream",
     "text": [
      "1.478891214151621 0.030569969917108936\n"
     ]
    }
   ],
   "source": [
    "print(a,b)"
   ]
  },
  {
   "cell_type": "code",
   "execution_count": 2,
   "metadata": {},
   "outputs": [],
   "source": [
    "import numpy as np\n",
    "import pandas as pd\n",
    "import matplotlib.pyplot as plt\n",
    "dt=pd.read_csv(\"contoh.csv\")"
   ]
  },
  {
   "cell_type": "code",
   "execution_count": 30,
   "metadata": {},
   "outputs": [
    {
     "data": {
      "text/html": [
       "<div>\n",
       "<style scoped>\n",
       "    .dataframe tbody tr th:only-of-type {\n",
       "        vertical-align: middle;\n",
       "    }\n",
       "\n",
       "    .dataframe tbody tr th {\n",
       "        vertical-align: top;\n",
       "    }\n",
       "\n",
       "    .dataframe thead th {\n",
       "        text-align: right;\n",
       "    }\n",
       "</style>\n",
       "<table border=\"1\" class=\"dataframe\">\n",
       "  <thead>\n",
       "    <tr style=\"text-align: right;\">\n",
       "      <th></th>\n",
       "      <th>x1</th>\n",
       "      <th>x2</th>\n",
       "      <th>y</th>\n",
       "    </tr>\n",
       "  </thead>\n",
       "  <tbody>\n",
       "    <tr>\n",
       "      <th>0</th>\n",
       "      <td>1</td>\n",
       "      <td>2012</td>\n",
       "      <td>73.0</td>\n",
       "    </tr>\n",
       "    <tr>\n",
       "      <th>1</th>\n",
       "      <td>1</td>\n",
       "      <td>2013</td>\n",
       "      <td>18.0</td>\n",
       "    </tr>\n",
       "    <tr>\n",
       "      <th>2</th>\n",
       "      <td>1</td>\n",
       "      <td>2014</td>\n",
       "      <td>22.0</td>\n",
       "    </tr>\n",
       "    <tr>\n",
       "      <th>3</th>\n",
       "      <td>1</td>\n",
       "      <td>2015</td>\n",
       "      <td>44.0</td>\n",
       "    </tr>\n",
       "    <tr>\n",
       "      <th>4</th>\n",
       "      <td>1</td>\n",
       "      <td>2016</td>\n",
       "      <td>31.0</td>\n",
       "    </tr>\n",
       "  </tbody>\n",
       "</table>\n",
       "</div>"
      ],
      "text/plain": [
       "   x1    x2     y\n",
       "0   1  2012  73.0\n",
       "1   1  2013  18.0\n",
       "2   1  2014  22.0\n",
       "3   1  2015  44.0\n",
       "4   1  2016  31.0"
      ]
     },
     "execution_count": 30,
     "metadata": {},
     "output_type": "execute_result"
    }
   ],
   "source": [
    "dt.head()"
   ]
  },
  {
   "cell_type": "code",
   "execution_count": 31,
   "metadata": {},
   "outputs": [],
   "source": [
    "from sklearn.linear_model import LinearRegression\n",
    "X1=dt.iloc[:,0].values\n",
    "X2=dt.iloc[:,1].values\n",
    "Y = dt.iloc[:,2].values\n",
    "model = LinearRegression()\n",
    "persamaan=model.fit(X1.reshape(-1,1),X2.reshape(-1,1), Y)"
   ]
  },
  {
   "cell_type": "code",
   "execution_count": 32,
   "metadata": {},
   "outputs": [
    {
     "name": "stdout",
     "output_type": "stream",
     "text": [
      "LinearRegression(copy_X=True, fit_intercept=True, n_jobs=None, normalize=False)\n"
     ]
    }
   ],
   "source": [
    "print(persamaan)"
   ]
  },
  {
   "cell_type": "code",
   "execution_count": 3,
   "metadata": {},
   "outputs": [],
   "source": [
    "X = dt.iloc[:, :-1].values\n",
    "Tampilkan_X = pd.DataFrame(X)"
   ]
  },
  {
   "cell_type": "code",
   "execution_count": 4,
   "metadata": {},
   "outputs": [
    {
     "name": "stdout",
     "output_type": "stream",
     "text": [
      "   0     1\n",
      "0  1  2012\n",
      "1  1  2013\n",
      "2  1  2014\n",
      "3  1  2015\n",
      "4  1  2016\n",
      "5  2  2012\n",
      "6  2  2013\n",
      "7  2  2014\n",
      "8  2  2015\n",
      "9  2  2016\n"
     ]
    }
   ],
   "source": [
    "print(Tampilkan_X)"
   ]
  },
  {
   "cell_type": "code",
   "execution_count": 5,
   "metadata": {},
   "outputs": [],
   "source": [
    "Y = dt.iloc[:,2].values"
   ]
  },
  {
   "cell_type": "code",
   "execution_count": 10,
   "metadata": {},
   "outputs": [],
   "source": [
    "from sklearn.linear_model import LinearRegression\n",
    "model = LinearRegression()\n",
    "persamaan=model.fit(Tampilkan_X, Y)"
   ]
  },
  {
   "cell_type": "code",
   "execution_count": 13,
   "metadata": {},
   "outputs": [
    {
     "name": "stdout",
     "output_type": "stream",
     "text": [
      "LinearRegression(copy_X=True, fit_intercept=True, n_jobs=None, normalize=False)\n"
     ]
    }
   ],
   "source": [
    "import pandas as pd\n",
    "print(persamaan)"
   ]
  },
  {
   "cell_type": "code",
   "execution_count": 15,
   "metadata": {},
   "outputs": [
    {
     "name": "stdout",
     "output_type": "stream",
     "text": [
      "['__abstractmethods__', '__class__', '__delattr__', '__dict__', '__dir__', '__doc__', '__eq__', '__format__', '__ge__', '__getattribute__', '__getstate__', '__gt__', '__hash__', '__init__', '__init_subclass__', '__le__', '__lt__', '__module__', '__ne__', '__new__', '__reduce__', '__reduce_ex__', '__repr__', '__setattr__', '__setstate__', '__sizeof__', '__str__', '__subclasshook__', '__weakref__', '_abc_impl', '_decision_function', '_estimator_type', '_get_param_names', '_get_tags', '_more_tags', '_preprocess_data', '_residues', '_set_intercept', 'coef_', 'copy_X', 'fit', 'fit_intercept', 'get_params', 'intercept_', 'n_jobs', 'normalize', 'predict', 'rank_', 'score', 'set_params', 'singular_']\n"
     ]
    }
   ],
   "source": [
    "print(dir(persamaan))"
   ]
  },
  {
   "cell_type": "code",
   "execution_count": 17,
   "metadata": {},
   "outputs": [
    {
     "name": "stdout",
     "output_type": "stream",
     "text": [
      "[10.4572 -1.3587]\n"
     ]
    }
   ],
   "source": [
    "print(persamaan.coef_)"
   ]
  },
  {
   "cell_type": "code",
   "execution_count": 18,
   "metadata": {},
   "outputs": [
    {
     "name": "stdout",
     "output_type": "stream",
     "text": [
      "2763.5646000000042\n"
     ]
    }
   ],
   "source": [
    "print(persamaan.intercept_)"
   ]
  },
  {
   "cell_type": "code",
   "execution_count": null,
   "metadata": {},
   "outputs": [],
   "source": []
  }
 ],
 "metadata": {
  "kernelspec": {
   "display_name": "Python 3",
   "language": "python",
   "name": "python3"
  },
  "language_info": {
   "codemirror_mode": {
    "name": "ipython",
    "version": 3
   },
   "file_extension": ".py",
   "mimetype": "text/x-python",
   "name": "python",
   "nbconvert_exporter": "python",
   "pygments_lexer": "ipython3",
   "version": "3.7.3"
  }
 },
 "nbformat": 4,
 "nbformat_minor": 2
}
